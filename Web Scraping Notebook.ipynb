{
 "cells": [
  {
   "cell_type": "markdown",
   "id": "1b877c73",
   "metadata": {},
   "source": [
    "# Web Scraping with Beautiful Soup"
   ]
  },
  {
   "cell_type": "markdown",
   "id": "a052c1ab",
   "metadata": {},
   "source": [
    "Crawling job listings on indeed.com"
   ]
  },
  {
   "cell_type": "code",
   "execution_count": null,
   "id": "7082ac62",
   "metadata": {},
   "outputs": [],
   "source": [
    "from bs4 import BeautifulSoup\n",
    "import urllib\n",
    "import re\n",
    "import pandas as pd"
   ]
  },
  {
   "cell_type": "markdown",
   "id": "5ccd3751",
   "metadata": {},
   "source": [
    "### 1. Find Job Listing Link"
   ]
  },
  {
   "cell_type": "markdown",
   "id": "f0a604c5",
   "metadata": {},
   "source": [
    "Mobile version of indeed.com has simpler html so I will specifically crawl it. https://www.indeed.com/m/"
   ]
  },
  {
   "cell_type": "code",
   "execution_count": null,
   "id": "e5758774",
   "metadata": {},
   "outputs": [],
   "source": [
    "from urllib.request import urlopen\n",
    "url = \"https://www.indeed.com/m/jobs?q=data+scientist&l=Los+Angeles%2C+CA\"\n",
    "page = urlopen(url)\n",
    "soup = BeautifulSoup(page, 'lxml')\n",
    "\n",
    "all_matches = soup.find_all('a', attrs={'rel':['nofollow']})\n",
    "for i in all_matches:\n",
    "    print (i['href'])\n",
    "    print (type(i['href']))\n",
    "    print (\"https://www.indeed.com/m/\"+i['href'])"
   ]
  },
  {
   "cell_type": "markdown",
   "id": "ee51d79c",
   "metadata": {},
   "source": [
    "### 2. Scrape job title, company, location and job description for each job\n"
   ]
  },
  {
   "cell_type": "code",
   "execution_count": null,
   "id": "18d055ed",
   "metadata": {},
   "outputs": [],
   "source": [
    "# quick example\n",
    "example_html= \\\n",
    "'''\n",
    "<html>\n",
    "\t<body>\n",
    "\t\t<p>\n",
    "\t\t\t<b>\n",
    "\t\t\t\t<font size=\"+1\">Data Scientist - Machine Learning</font>\n",
    "\t\t\t</b>\n",
    "\t\t\t<br>Google - <span class=\"location\">San Jose, CA</span>\n",
    "\t\t</p>\n",
    "\t</body>\n",
    "</html>\n",
    "'''"
   ]
  },
  {
   "cell_type": "code",
   "execution_count": null,
   "id": "31c88e8d",
   "metadata": {},
   "outputs": [],
   "source": [
    "bs = BeautifulSoup(test_html,'lxml')\n",
    "# print Job Title\n",
    "print(bs.body.p.b.font.text)"
   ]
  },
  {
   "cell_type": "code",
   "execution_count": null,
   "id": "a76b688c",
   "metadata": {},
   "outputs": [],
   "source": [
    "# print Location\n",
    "print(bs.body.p.span.text)"
   ]
  },
  {
   "cell_type": "code",
   "execution_count": null,
   "id": "8dcf1778",
   "metadata": {},
   "outputs": [],
   "source": [
    "# Scraping real jobs from indeed\n",
    "title = []\n",
    "company = []\n",
    "location = []\n",
    "jd = []\n",
    "for each in all_matches:\n",
    "    jd_url= 'http://www.indeed.com/m/'+each['href']\n",
    "    jd_page = urlopen(jd_url)\n",
    "    jd_soup = BeautifulSoup(jd_page, 'lxml')\n",
    "    jd_desc = jd_soup.findAll('div',attrs={'id':['desc']}) ## find the structure like: <div id=\"desc\"></>\n",
    "#    break\n",
    "    title.append(jd_soup.body.p.b.font.text)\n",
    "    company.append(jd_desc[0].span.text)\n",
    "    location.append(jd_soup.body.p.span.text)\n",
    "    jd.append(jd_desc[0].text"
   ]
  },
  {
   "cell_type": "code",
   "execution_count": null,
   "id": "b2cfb6f2",
   "metadata": {},
   "outputs": [],
   "source": [
    "# Description\n",
    "print(jd_desc[0].text)"
   ]
  },
  {
   "cell_type": "code",
   "execution_count": null,
   "id": "6bf3ad1a",
   "metadata": {},
   "outputs": [],
   "source": [
    "# Title \n",
    "print(jd_soup.body.p.b.font.text)"
   ]
  },
  {
   "cell_type": "code",
   "execution_count": null,
   "id": "6a389d38",
   "metadata": {},
   "outputs": [],
   "source": [
    "# Company\n",
    "print(jd_desc[0].span.text)\n",
    "print(jd_soup.body.p.span.previous_sibling.split('-')[0][1:])"
   ]
  },
  {
   "cell_type": "markdown",
   "id": "7e5addc1",
   "metadata": {},
   "source": [
    "### 3. Save data to DataFrame"
   ]
  },
  {
   "cell_type": "code",
   "execution_count": null,
   "id": "9fe1d9fa",
   "metadata": {},
   "outputs": [],
   "source": [
    "job = {'title': title,\n",
    "         'company': company,\n",
    "         'location': location,\n",
    "         'Job Description': jd}\n",
    "df = pd.DataFrame.from_dict(job)\n",
    "df"
   ]
  },
  {
   "cell_type": "markdown",
   "id": "a492a55d",
   "metadata": {},
   "source": [
    "### 4. Move Through Pages"
   ]
  },
  {
   "cell_type": "code",
   "execution_count": null,
   "id": "bb0801dc",
   "metadata": {},
   "outputs": [],
   "source": [
    "title = []\n",
    "company = []\n",
    "location = []\n",
    "jd = []\n",
    "url = \"https://www.indeed.com/m/jobs?q=data+scientist&l=Los+Angeles%2C+CA\"\n",
    "for i in range(2): # search to page 2\n",
    "    \n",
    "    page = urlopen(url)\n",
    "    soup = BeautifulSoup(page, 'lxml')\n",
    "    all_matches = soup.findAll(attrs={'rel':['nofollow']})\n",
    "    for each in all_matches:\n",
    "        jd_url= 'http://www.indeed.com/m/'+each['href']\n",
    "        jd_page =urlopen(jd_url)\n",
    "        jd_soup = BeautifulSoup(jd_page, 'lxml')\n",
    "        jd_desc = jd_soup.findAll(attrs={'id':['desc']})\n",
    "        title.append(jd_soup.body.p.b.font.text)\n",
    "        company.append(jd_desc[0].span.text)\n",
    "        location.append(jd_soup.body.p.span.text)\n",
    "        jd.append(jd_desc[0].text)\n",
    "        \n",
    "    ## Change the pages to Next Page\n",
    "    url_all = soup.findAll(attrs={'rel':['next']})\n",
    "    url = 'http://www.indeed.com/m/'+ str(url_all[0]['href'])"
   ]
  },
  {
   "cell_type": "code",
   "execution_count": null,
   "id": "5f393a94",
   "metadata": {},
   "outputs": [],
   "source": [
    "job = {'title': title,\n",
    "         'company': company,\n",
    "         'location': location,\n",
    "         'Job Description': jd}\n",
    "df = pd.DataFrame.from_dict(job)\n",
    "df"
   ]
  },
  {
   "cell_type": "code",
   "execution_count": null,
   "id": "06e25fb4",
   "metadata": {},
   "outputs": [],
   "source": []
  }
 ],
 "metadata": {
  "kernelspec": {
   "display_name": "Python 3 (ipykernel)",
   "language": "python",
   "name": "python3"
  },
  "language_info": {
   "codemirror_mode": {
    "name": "ipython",
    "version": 3
   },
   "file_extension": ".py",
   "mimetype": "text/x-python",
   "name": "python",
   "nbconvert_exporter": "python",
   "pygments_lexer": "ipython3",
   "version": "3.8.11"
  }
 },
 "nbformat": 4,
 "nbformat_minor": 5
}
